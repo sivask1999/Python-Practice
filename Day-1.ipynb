{
 "cells": [
  {
   "cell_type": "code",
   "execution_count": 1,
   "id": "c993cbbf",
   "metadata": {},
   "outputs": [
    {
     "name": "stdout",
     "output_type": "stream",
     "text": [
      "Hello, How are you?\n"
     ]
    }
   ],
   "source": [
    "name=\"Hello, How are you?\"\n",
    "print(name)"
   ]
  },
  {
   "cell_type": "code",
   "execution_count": 2,
   "id": "50f241e2",
   "metadata": {},
   "outputs": [
    {
     "name": "stdout",
     "output_type": "stream",
     "text": [
      "    * \n",
      "   ***\n",
      "  *****\n",
      " *******\n",
      "*********\n"
     ]
    }
   ],
   "source": [
    "print(\"    * \")\n",
    "print(\"   ***\")\n",
    "print(\"  *****\")\n",
    "print(\" *******\")\n",
    "print(\"*********\")"
   ]
  },
  {
   "cell_type": "code",
   "execution_count": 3,
   "id": "0939971d",
   "metadata": {},
   "outputs": [
    {
     "name": "stdout",
     "output_type": "stream",
     "text": [
      "A\n",
      "B\n",
      "C\n"
     ]
    }
   ],
   "source": [
    "print('A')\n",
    "print('B')\n",
    "print('C')"
   ]
  },
  {
   "cell_type": "code",
   "execution_count": 4,
   "id": "fc508b6c",
   "metadata": {},
   "outputs": [],
   "source": [
    "name = \"siva\""
   ]
  },
  {
   "cell_type": "code",
   "execution_count": 5,
   "id": "734d7fe6",
   "metadata": {},
   "outputs": [
    {
     "data": {
      "text/plain": [
       "str"
      ]
     },
     "execution_count": 5,
     "metadata": {},
     "output_type": "execute_result"
    }
   ],
   "source": [
    "type(name)"
   ]
  },
  {
   "cell_type": "code",
   "execution_count": 6,
   "id": "f1ee3de0",
   "metadata": {},
   "outputs": [
    {
     "data": {
      "text/plain": [
       "int"
      ]
     },
     "execution_count": 6,
     "metadata": {},
     "output_type": "execute_result"
    }
   ],
   "source": [
    "num = 312\n",
    "type(num)"
   ]
  },
  {
   "cell_type": "code",
   "execution_count": 7,
   "id": "ef341dca",
   "metadata": {},
   "outputs": [
    {
     "data": {
      "text/plain": [
       "float"
      ]
     },
     "execution_count": 7,
     "metadata": {},
     "output_type": "execute_result"
    }
   ],
   "source": [
    "num = 312.45\n",
    "type(num)"
   ]
  },
  {
   "cell_type": "code",
   "execution_count": 8,
   "id": "9b8064c7",
   "metadata": {},
   "outputs": [
    {
     "data": {
      "text/plain": [
       "bool"
      ]
     },
     "execution_count": 8,
     "metadata": {},
     "output_type": "execute_result"
    }
   ],
   "source": [
    "siva = True\n",
    "type(siva)"
   ]
  },
  {
   "cell_type": "code",
   "execution_count": 9,
   "id": "77b749db",
   "metadata": {},
   "outputs": [],
   "source": [
    "comp_var = 4+2j"
   ]
  },
  {
   "cell_type": "code",
   "execution_count": 10,
   "id": "1d505257",
   "metadata": {},
   "outputs": [
    {
     "data": {
      "text/plain": [
       "(4+2j)"
      ]
     },
     "execution_count": 10,
     "metadata": {},
     "output_type": "execute_result"
    }
   ],
   "source": [
    "comp_var"
   ]
  },
  {
   "cell_type": "code",
   "execution_count": 11,
   "id": "57ef1ff3",
   "metadata": {},
   "outputs": [
    {
     "data": {
      "text/plain": [
       "float"
      ]
     },
     "execution_count": 11,
     "metadata": {},
     "output_type": "execute_result"
    }
   ],
   "source": [
    "f = 23.45\n",
    "type(f)"
   ]
  },
  {
   "cell_type": "code",
   "execution_count": 12,
   "id": "20a3d6cd",
   "metadata": {},
   "outputs": [
    {
     "data": {
      "text/plain": [
       "'31'"
      ]
     },
     "execution_count": 12,
     "metadata": {},
     "output_type": "execute_result"
    }
   ],
   "source": [
    "num = 31\n",
    "str(num)"
   ]
  },
  {
   "cell_type": "code",
   "execution_count": 13,
   "id": "a3fd8e31",
   "metadata": {},
   "outputs": [
    {
     "data": {
      "text/plain": [
       "51461.777777777774"
      ]
     },
     "execution_count": 13,
     "metadata": {},
     "output_type": "execute_result"
    }
   ],
   "source": [
    "145*354-1345/45+(462+23)/3"
   ]
  },
  {
   "cell_type": "code",
   "execution_count": 14,
   "id": "e9ac2b25",
   "metadata": {},
   "outputs": [
    {
     "data": {
      "text/plain": [
       "1587"
      ]
     },
     "execution_count": 14,
     "metadata": {},
     "output_type": "execute_result"
    }
   ],
   "source": [
    "1353+234"
   ]
  },
  {
   "cell_type": "code",
   "execution_count": 16,
   "id": "8bc8a9c9",
   "metadata": {},
   "outputs": [
    {
     "data": {
      "text/plain": [
       "2009"
      ]
     },
     "execution_count": 16,
     "metadata": {},
     "output_type": "execute_result"
    }
   ],
   "source": [
    "2355-346"
   ]
  },
  {
   "cell_type": "code",
   "execution_count": 17,
   "id": "6bbbf01c",
   "metadata": {},
   "outputs": [
    {
     "data": {
      "text/plain": [
       "106938"
      ]
     },
     "execution_count": 17,
     "metadata": {},
     "output_type": "execute_result"
    }
   ],
   "source": [
    "234*457"
   ]
  },
  {
   "cell_type": "code",
   "execution_count": 18,
   "id": "0fe97760",
   "metadata": {},
   "outputs": [
    {
     "data": {
      "text/plain": [
       "4.166666666666667"
      ]
     },
     "execution_count": 18,
     "metadata": {},
     "output_type": "execute_result"
    }
   ],
   "source": [
    "25/6"
   ]
  },
  {
   "cell_type": "code",
   "execution_count": 19,
   "id": "a5add57b",
   "metadata": {},
   "outputs": [
    {
     "data": {
      "text/plain": [
       "1"
      ]
     },
     "execution_count": 19,
     "metadata": {},
     "output_type": "execute_result"
    }
   ],
   "source": [
    "25%6  #percentage gives remainder"
   ]
  },
  {
   "cell_type": "code",
   "execution_count": 20,
   "id": "706ce2ce",
   "metadata": {},
   "outputs": [
    {
     "data": {
      "text/plain": [
       "132"
      ]
     },
     "execution_count": 20,
     "metadata": {},
     "output_type": "execute_result"
    }
   ],
   "source": [
    "33*4"
   ]
  },
  {
   "cell_type": "code",
   "execution_count": 21,
   "id": "e607d037",
   "metadata": {},
   "outputs": [
    {
     "data": {
      "text/plain": [
       "1185921"
      ]
     },
     "execution_count": 21,
     "metadata": {},
     "output_type": "execute_result"
    }
   ],
   "source": [
    "33**4"
   ]
  },
  {
   "cell_type": "code",
   "execution_count": 22,
   "id": "3ad19503",
   "metadata": {},
   "outputs": [
    {
     "data": {
      "text/plain": [
       "7"
      ]
     },
     "execution_count": 22,
     "metadata": {},
     "output_type": "execute_result"
    }
   ],
   "source": [
    "45//6"
   ]
  },
  {
   "cell_type": "code",
   "execution_count": 23,
   "id": "82078357",
   "metadata": {},
   "outputs": [
    {
     "data": {
      "text/plain": [
       "1024"
      ]
     },
     "execution_count": 23,
     "metadata": {},
     "output_type": "execute_result"
    }
   ],
   "source": [
    "2**10"
   ]
  },
  {
   "cell_type": "code",
   "execution_count": 25,
   "id": "06744244",
   "metadata": {},
   "outputs": [
    {
     "name": "stdout",
     "output_type": "stream",
     "text": [
      "Enter your weight70\n",
      "Enter your Height1.6\n",
      "27.343749999999996\n"
     ]
    }
   ],
   "source": [
    "weight = int(input(\"Enter your weight\"))\n",
    "height = float(input(\"Enter your Height\"))\n",
    "BMI = weight/(height**2)\n",
    "print(BMI)"
   ]
  },
  {
   "cell_type": "code",
   "execution_count": 26,
   "id": "f47046bc",
   "metadata": {},
   "outputs": [
    {
     "data": {
      "text/plain": [
       "False"
      ]
     },
     "execution_count": 26,
     "metadata": {},
     "output_type": "execute_result"
    }
   ],
   "source": [
    "(54+34)*45 == (0.9*2432)/0.9"
   ]
  },
  {
   "cell_type": "code",
   "execution_count": 27,
   "id": "0576f80f",
   "metadata": {},
   "outputs": [],
   "source": [
    "siva1 =\"Vijay\"\n",
    "siva2=\"krishna\"\n",
    "\n",
    "siva3 = siva1+ \" \" +siva2"
   ]
  },
  {
   "cell_type": "code",
   "execution_count": 28,
   "id": "6b49d324",
   "metadata": {},
   "outputs": [
    {
     "data": {
      "text/plain": [
       "'Vijay krishna'"
      ]
     },
     "execution_count": 28,
     "metadata": {},
     "output_type": "execute_result"
    }
   ],
   "source": [
    "siva3"
   ]
  },
  {
   "cell_type": "code",
   "execution_count": 29,
   "id": "65402ff5",
   "metadata": {},
   "outputs": [],
   "source": [
    "num = 34\n",
    "string = \"How old are you?\"\n",
    "\n",
    "result = str(num)+\" \"+string "
   ]
  },
  {
   "cell_type": "code",
   "execution_count": 30,
   "id": "6f106777",
   "metadata": {},
   "outputs": [
    {
     "name": "stdout",
     "output_type": "stream",
     "text": [
      "34 How old are you?\n"
     ]
    }
   ],
   "source": [
    "print(result)"
   ]
  },
  {
   "cell_type": "code",
   "execution_count": 31,
   "id": "36aa87a0",
   "metadata": {},
   "outputs": [],
   "source": [
    "#Take a number as input from user and store it in n \n",
    "#for iteration in loop take range values from 1 to 11\n",
    "#by giving identation after for line statemnet \n",
    "#now give print command (n,\"x\",i,\"=\",n*i)"
   ]
  },
  {
   "cell_type": "code",
   "execution_count": 32,
   "id": "3ccdd191",
   "metadata": {},
   "outputs": [],
   "source": [
    "#intialize the variables as below:\n",
    "#n = 10 a =0 , b=1 ,count =1,sum =0\n",
    "#write a while loop with condition as shown while (count<=n)\n",
    "#inside the while mention the logic as below\n",
    "            #for incrementing the count by 1 #count+=1 \n",
    "            #changing the valus of a create further terms #a = b\n",
    "            #changing the value of b to next term in order to proceed with series #b = sum\n",
    "            #assigning the value of a,b summation i.e the next term in the series #sum = a+b\n",
    "            "
   ]
  },
  {
   "cell_type": "code",
   "execution_count": 33,
   "id": "4bfe9eb6",
   "metadata": {},
   "outputs": [],
   "source": [
    "#take two numbers as input integers and assaign to two variables a and b\n",
    "#f variable a is greater than variable b \n",
    "#print a is greater than b"
   ]
  },
  {
   "cell_type": "code",
   "execution_count": 34,
   "id": "b82ab953",
   "metadata": {},
   "outputs": [],
   "source": [
    "#Take a number as input as integer and store it in variable 'num'\n",
    "#print if number modulous 5 and is equal to zero\n",
    "#print if number is positive and  divisible by 7\n",
    "#print else if number is positive and divisible by 7\n",
    "#print else num is negative\n",
    "    "
   ]
  },
  {
   "cell_type": "code",
   "execution_count": 35,
   "id": "70743d73",
   "metadata": {},
   "outputs": [],
   "source": [
    "#Pseudocode for Factorial of a number :\n",
    "#Declare N and F as integer variable.\n",
    "#Initialize F=1.\n",
    "#Enter the value of N.\n",
    "#Check whether N>0, if not then F=1.\n",
    "#If yes then, F=F*N.\n",
    "#Decrease the value of N by 1 .\n",
    "#Repeat step 4 and 5 until N=0.\n",
    "\n"
   ]
  },
  {
   "cell_type": "code",
   "execution_count": 36,
   "id": "cf7eeae2",
   "metadata": {},
   "outputs": [],
   "source": [
    "#Take input from the user to check if the number is prime or not and store it in \"num\"\n",
    "#check if the number is greater than 1 or not ,if not greater than ask user to print value>1\n",
    "#if the above condition is satisfied,\n",
    "#write for loop iterating on the values from 2 to the value entered by user \n",
    "#for each number in the range,check modular value with user input\n",
    "#if no number in the range gives value as 0(modular) print \"prime number \" else print\"not a prime number\""
   ]
  },
  {
   "cell_type": "code",
   "execution_count": null,
   "id": "947945a6",
   "metadata": {},
   "outputs": [],
   "source": []
  }
 ],
 "metadata": {
  "kernelspec": {
   "display_name": "Python 3 (ipykernel)",
   "language": "python",
   "name": "python3"
  },
  "language_info": {
   "codemirror_mode": {
    "name": "ipython",
    "version": 3
   },
   "file_extension": ".py",
   "mimetype": "text/x-python",
   "name": "python",
   "nbconvert_exporter": "python",
   "pygments_lexer": "ipython3",
   "version": "3.9.13"
  }
 },
 "nbformat": 4,
 "nbformat_minor": 5
}
