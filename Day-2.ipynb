{
 "cells": [
  {
   "cell_type": "code",
   "execution_count": 1,
   "id": "76f2663c",
   "metadata": {},
   "outputs": [],
   "source": [
    "country = 'India'"
   ]
  },
  {
   "cell_type": "code",
   "execution_count": 2,
   "id": "d3de65c6",
   "metadata": {},
   "outputs": [
    {
     "data": {
      "text/plain": [
       "5"
      ]
     },
     "execution_count": 2,
     "metadata": {},
     "output_type": "execute_result"
    }
   ],
   "source": [
    "len(country)"
   ]
  },
  {
   "cell_type": "code",
   "execution_count": 3,
   "id": "fd7bedf2",
   "metadata": {},
   "outputs": [
    {
     "data": {
      "text/plain": [
       "'In'"
      ]
     },
     "execution_count": 3,
     "metadata": {},
     "output_type": "execute_result"
    }
   ],
   "source": [
    "country[0:2]"
   ]
  },
  {
   "cell_type": "code",
   "execution_count": 4,
   "id": "0d899c83",
   "metadata": {},
   "outputs": [],
   "source": [
    "a = 'Today is a sunny day.'"
   ]
  },
  {
   "cell_type": "code",
   "execution_count": 5,
   "id": "e7f0c5c7",
   "metadata": {},
   "outputs": [
    {
     "data": {
      "text/plain": [
       "'Today'"
      ]
     },
     "execution_count": 5,
     "metadata": {},
     "output_type": "execute_result"
    }
   ],
   "source": [
    "a[0:5]"
   ]
  },
  {
   "cell_type": "code",
   "execution_count": 7,
   "id": "9a092ffb",
   "metadata": {},
   "outputs": [
    {
     "data": {
      "text/plain": [
       "'sunny'"
      ]
     },
     "execution_count": 7,
     "metadata": {},
     "output_type": "execute_result"
    }
   ],
   "source": [
    "a[11:16]"
   ]
  },
  {
   "cell_type": "code",
   "execution_count": 8,
   "id": "0cc28b1a",
   "metadata": {},
   "outputs": [
    {
     "data": {
      "text/plain": [
       "'y.'"
      ]
     },
     "execution_count": 8,
     "metadata": {},
     "output_type": "execute_result"
    }
   ],
   "source": [
    "a[-2:]"
   ]
  },
  {
   "cell_type": "code",
   "execution_count": 9,
   "id": "6ad7f121",
   "metadata": {},
   "outputs": [
    {
     "data": {
      "text/plain": [
       "'.yad ynnus a si yadoT'"
      ]
     },
     "execution_count": 9,
     "metadata": {},
     "output_type": "execute_result"
    }
   ],
   "source": [
    "a[::-1]"
   ]
  },
  {
   "cell_type": "code",
   "execution_count": 10,
   "id": "6d7fdff4",
   "metadata": {},
   "outputs": [],
   "source": [
    "mix_list_1 = ['Learn', 24, 'Blue', False, -8]"
   ]
  },
  {
   "cell_type": "code",
   "execution_count": 11,
   "id": "eedd9d60",
   "metadata": {},
   "outputs": [
    {
     "data": {
      "text/plain": [
       "5"
      ]
     },
     "execution_count": 11,
     "metadata": {},
     "output_type": "execute_result"
    }
   ],
   "source": [
    "len(mix_list_1)"
   ]
  },
  {
   "cell_type": "code",
   "execution_count": 13,
   "id": "cb0bbe3c",
   "metadata": {},
   "outputs": [
    {
     "data": {
      "text/plain": [
       "True"
      ]
     },
     "execution_count": 13,
     "metadata": {},
     "output_type": "execute_result"
    }
   ],
   "source": [
    "24 in mix_list_1"
   ]
  },
  {
   "cell_type": "code",
   "execution_count": 14,
   "id": "596cdf95",
   "metadata": {},
   "outputs": [],
   "source": [
    "mix_list_2 = [4, 7, 'Summer']"
   ]
  },
  {
   "cell_type": "code",
   "execution_count": 15,
   "id": "d77760dd",
   "metadata": {},
   "outputs": [
    {
     "data": {
      "text/plain": [
       "[4, 7, 'Summer']"
      ]
     },
     "execution_count": 15,
     "metadata": {},
     "output_type": "execute_result"
    }
   ],
   "source": [
    "mix_list_2"
   ]
  },
  {
   "cell_type": "code",
   "execution_count": 17,
   "id": "48839194",
   "metadata": {},
   "outputs": [
    {
     "data": {
      "text/plain": [
       "['Learn', 24, 'Blue', False, -8, 4, 7, 'Summer']"
      ]
     },
     "execution_count": 17,
     "metadata": {},
     "output_type": "execute_result"
    }
   ],
   "source": [
    "mix_list_1 + mix_list_2"
   ]
  },
  {
   "cell_type": "code",
   "execution_count": 18,
   "id": "5506060f",
   "metadata": {},
   "outputs": [
    {
     "data": {
      "text/plain": [
       "[4, 7, 'Summer', 4, 7, 'Summer']"
      ]
     },
     "execution_count": 18,
     "metadata": {},
     "output_type": "execute_result"
    }
   ],
   "source": [
    "mix_list_2*2"
   ]
  },
  {
   "cell_type": "code",
   "execution_count": 19,
   "id": "8abf5adf",
   "metadata": {},
   "outputs": [],
   "source": [
    "num_list_1 = [1, 2, 3, 4]\n",
    "\n",
    "num_list_2 = [0, 5, 2, 1]"
   ]
  },
  {
   "cell_type": "code",
   "execution_count": 23,
   "id": "148d7ed5",
   "metadata": {},
   "outputs": [
    {
     "name": "stdout",
     "output_type": "stream",
     "text": [
      "[0, 10, 6, 4]\n"
     ]
    }
   ],
   "source": [
    "product = []\n",
    "\n",
    "for i in range(0,len(num_list_1)):\n",
    "    product.append((num_list_1[i]*num_list_2[i]))\n",
    "\n",
    "    print(product)"
   ]
  },
  {
   "cell_type": "code",
   "execution_count": 25,
   "id": "26ae2b37",
   "metadata": {},
   "outputs": [],
   "source": [
    "\n",
    "\n",
    "mix_list = ['Python', 1, 2, 3, 'Data', True] "
   ]
  },
  {
   "cell_type": "code",
   "execution_count": 27,
   "id": "121f72d7",
   "metadata": {},
   "outputs": [
    {
     "data": {
      "text/plain": [
       "'Python'"
      ]
     },
     "execution_count": 27,
     "metadata": {},
     "output_type": "execute_result"
    }
   ],
   "source": [
    "mix_list[0]"
   ]
  },
  {
   "cell_type": "code",
   "execution_count": 28,
   "id": "8f686854",
   "metadata": {},
   "outputs": [
    {
     "data": {
      "text/plain": [
       "'Data'"
      ]
     },
     "execution_count": 28,
     "metadata": {},
     "output_type": "execute_result"
    }
   ],
   "source": [
    "mix_list[-2]"
   ]
  },
  {
   "cell_type": "code",
   "execution_count": 29,
   "id": "ac4731c7",
   "metadata": {},
   "outputs": [
    {
     "data": {
      "text/plain": [
       "['Python', 1, 2]"
      ]
     },
     "execution_count": 29,
     "metadata": {},
     "output_type": "execute_result"
    }
   ],
   "source": [
    "mix_list[0:3]"
   ]
  },
  {
   "cell_type": "code",
   "execution_count": 30,
   "id": "84d3b11a",
   "metadata": {},
   "outputs": [
    {
     "data": {
      "text/plain": [
       "[1, 3]"
      ]
     },
     "execution_count": 30,
     "metadata": {},
     "output_type": "execute_result"
    }
   ],
   "source": [
    "mix_list[1:5:2]"
   ]
  },
  {
   "cell_type": "code",
   "execution_count": 31,
   "id": "da017145",
   "metadata": {},
   "outputs": [],
   "source": [
    "num_list = [4, 5, 7, -2, 0, 1]"
   ]
  },
  {
   "cell_type": "code",
   "execution_count": 32,
   "id": "61de0a7b",
   "metadata": {},
   "outputs": [
    {
     "data": {
      "text/plain": [
       "-2"
      ]
     },
     "execution_count": 32,
     "metadata": {},
     "output_type": "execute_result"
    }
   ],
   "source": [
    "min(num_list)"
   ]
  },
  {
   "cell_type": "code",
   "execution_count": 33,
   "id": "c110dbea",
   "metadata": {},
   "outputs": [
    {
     "data": {
      "text/plain": [
       "7"
      ]
     },
     "execution_count": 33,
     "metadata": {},
     "output_type": "execute_result"
    }
   ],
   "source": [
    "max(num_list)"
   ]
  },
  {
   "cell_type": "code",
   "execution_count": 34,
   "id": "cf94dc3d",
   "metadata": {},
   "outputs": [],
   "source": [
    "num_list.sort()"
   ]
  },
  {
   "cell_type": "code",
   "execution_count": 35,
   "id": "293739e4",
   "metadata": {},
   "outputs": [
    {
     "data": {
      "text/plain": [
       "[-2, 0, 1, 4, 5, 7]"
      ]
     },
     "execution_count": 35,
     "metadata": {},
     "output_type": "execute_result"
    }
   ],
   "source": [
    "num_list\n"
   ]
  },
  {
   "cell_type": "code",
   "execution_count": 36,
   "id": "e34121b9",
   "metadata": {},
   "outputs": [
    {
     "data": {
      "text/plain": [
       "[-2, 0, 1, 4, 5, 7]"
      ]
     },
     "execution_count": 36,
     "metadata": {},
     "output_type": "execute_result"
    }
   ],
   "source": [
    "sorted(num_list)"
   ]
  },
  {
   "cell_type": "code",
   "execution_count": 37,
   "id": "d5a3f434",
   "metadata": {},
   "outputs": [],
   "source": [
    "num_list_1 = num_list.copy()"
   ]
  },
  {
   "cell_type": "code",
   "execution_count": 38,
   "id": "4199162d",
   "metadata": {},
   "outputs": [
    {
     "data": {
      "text/plain": [
       "[-2, 0, 1, 4, 5, 7]"
      ]
     },
     "execution_count": 38,
     "metadata": {},
     "output_type": "execute_result"
    }
   ],
   "source": [
    "num_list_1"
   ]
  },
  {
   "cell_type": "code",
   "execution_count": 39,
   "id": "df8bffab",
   "metadata": {},
   "outputs": [],
   "source": [
    "#pop removes element from the list through index number "
   ]
  },
  {
   "cell_type": "code",
   "execution_count": 40,
   "id": "54b97c3c",
   "metadata": {},
   "outputs": [
    {
     "data": {
      "text/plain": [
       "[-2, 0, 1, 4, 5, 7]"
      ]
     },
     "execution_count": 40,
     "metadata": {},
     "output_type": "execute_result"
    }
   ],
   "source": [
    "num_list"
   ]
  },
  {
   "cell_type": "code",
   "execution_count": 41,
   "id": "9ba124cb",
   "metadata": {},
   "outputs": [
    {
     "data": {
      "text/plain": [
       "0"
      ]
     },
     "execution_count": 41,
     "metadata": {},
     "output_type": "execute_result"
    }
   ],
   "source": [
    "num_list.pop(1)"
   ]
  },
  {
   "cell_type": "code",
   "execution_count": 42,
   "id": "832571d4",
   "metadata": {},
   "outputs": [],
   "source": [
    "languages_list = ['R', 'Python', 'C', 'Java']"
   ]
  },
  {
   "cell_type": "code",
   "execution_count": 43,
   "id": "8033ec05",
   "metadata": {},
   "outputs": [],
   "source": [
    "languages_list.append('Data')"
   ]
  },
  {
   "cell_type": "code",
   "execution_count": 44,
   "id": "f781a8b4",
   "metadata": {},
   "outputs": [
    {
     "data": {
      "text/plain": [
       "['R', 'Python', 'C', 'Java', 'Data']"
      ]
     },
     "execution_count": 44,
     "metadata": {},
     "output_type": "execute_result"
    }
   ],
   "source": [
    "languages_list"
   ]
  },
  {
   "cell_type": "code",
   "execution_count": 45,
   "id": "debb57a5",
   "metadata": {},
   "outputs": [],
   "source": [
    "languages_list.append('Data')"
   ]
  },
  {
   "cell_type": "code",
   "execution_count": 46,
   "id": "b3eb2281",
   "metadata": {},
   "outputs": [],
   "source": [
    "languages_list.append('Excel')"
   ]
  },
  {
   "cell_type": "code",
   "execution_count": 47,
   "id": "a6e90769",
   "metadata": {},
   "outputs": [
    {
     "data": {
      "text/plain": [
       "['R', 'Python', 'C', 'Java', 'Data', 'Data', 'Excel']"
      ]
     },
     "execution_count": 47,
     "metadata": {},
     "output_type": "execute_result"
    }
   ],
   "source": [
    "languages_list"
   ]
  },
  {
   "cell_type": "code",
   "execution_count": 48,
   "id": "ea072079",
   "metadata": {},
   "outputs": [],
   "source": [
    "languages_list = ['R', 'Python', 'C', 'Java']"
   ]
  },
  {
   "cell_type": "code",
   "execution_count": 49,
   "id": "cd0170d3",
   "metadata": {},
   "outputs": [],
   "source": [
    "languages_list[2]= 'C++'"
   ]
  },
  {
   "cell_type": "code",
   "execution_count": 50,
   "id": "664a4765",
   "metadata": {},
   "outputs": [
    {
     "data": {
      "text/plain": [
       "['R', 'Python', 'C++', 'Java']"
      ]
     },
     "execution_count": 50,
     "metadata": {},
     "output_type": "execute_result"
    }
   ],
   "source": [
    "languages_list"
   ]
  },
  {
   "cell_type": "code",
   "execution_count": 51,
   "id": "226cdbf2",
   "metadata": {},
   "outputs": [],
   "source": [
    "seasons_list = ['Summer', 'Winter', 'Spring', 'Winter', 'Spring' ,'Summer', 'Spring', 'Summer', 'Winter', 'Summer', 'Spring']"
   ]
  },
  {
   "cell_type": "code",
   "execution_count": 52,
   "id": "173c3a26",
   "metadata": {},
   "outputs": [
    {
     "data": {
      "text/plain": [
       "4"
      ]
     },
     "execution_count": 52,
     "metadata": {},
     "output_type": "execute_result"
    }
   ],
   "source": [
    "seasons_list.count('Summer')"
   ]
  },
  {
   "cell_type": "code",
   "execution_count": 53,
   "id": "5b8c57c0",
   "metadata": {},
   "outputs": [],
   "source": [
    "num_tuple = (4, 4, 8)\n",
    "\n",
    "mix_tuple = 'John', 5, -2"
   ]
  },
  {
   "cell_type": "code",
   "execution_count": 54,
   "id": "5c4d54b9",
   "metadata": {},
   "outputs": [
    {
     "data": {
      "text/plain": [
       "3"
      ]
     },
     "execution_count": 54,
     "metadata": {},
     "output_type": "execute_result"
    }
   ],
   "source": [
    "len(num_tuple)"
   ]
  },
  {
   "cell_type": "code",
   "execution_count": 55,
   "id": "2c93aead",
   "metadata": {},
   "outputs": [
    {
     "data": {
      "text/plain": [
       "(4, 4, 8, 'John', 5, -2)"
      ]
     },
     "execution_count": 55,
     "metadata": {},
     "output_type": "execute_result"
    }
   ],
   "source": [
    "num_tuple + mix_tuple"
   ]
  },
  {
   "cell_type": "code",
   "execution_count": 56,
   "id": "92e4be97",
   "metadata": {},
   "outputs": [
    {
     "data": {
      "text/plain": [
       "('John', 5, -2, 'John', 5, -2)"
      ]
     },
     "execution_count": 56,
     "metadata": {},
     "output_type": "execute_result"
    }
   ],
   "source": [
    "mix_tuple*2"
   ]
  },
  {
   "cell_type": "code",
   "execution_count": 57,
   "id": "83251da4",
   "metadata": {},
   "outputs": [],
   "source": [
    "mix_tuple = (['a', 1, True], 2, 'Science', -5)"
   ]
  },
  {
   "cell_type": "markdown",
   "id": "cae817a3",
   "metadata": {},
   "source": [
    "### adding element is not possible in tuple so we type cast list into tuple and we type caste into list"
   ]
  },
  {
   "cell_type": "code",
   "execution_count": 58,
   "id": "e2c513e1",
   "metadata": {},
   "outputs": [],
   "source": [
    "list_tuple = list(mix_tuple)"
   ]
  },
  {
   "cell_type": "code",
   "execution_count": 59,
   "id": "c62b7a70",
   "metadata": {},
   "outputs": [],
   "source": [
    "list_tuple.append('4')"
   ]
  },
  {
   "cell_type": "code",
   "execution_count": 60,
   "id": "1c82ed69",
   "metadata": {},
   "outputs": [
    {
     "data": {
      "text/plain": [
       "[['a', 1, True], 2, 'Science', -5, '4']"
      ]
     },
     "execution_count": 60,
     "metadata": {},
     "output_type": "execute_result"
    }
   ],
   "source": [
    "list_tuple"
   ]
  },
  {
   "cell_type": "code",
   "execution_count": 61,
   "id": "ffdc2df1",
   "metadata": {},
   "outputs": [],
   "source": [
    "mix_tuple = (['a', 1, True], 2, 'Science', -5)"
   ]
  },
  {
   "cell_type": "code",
   "execution_count": 62,
   "id": "d0678ea9",
   "metadata": {},
   "outputs": [
    {
     "data": {
      "text/plain": [
       "(['a', 1, True], 2, 'Science', -5)"
      ]
     },
     "execution_count": 62,
     "metadata": {},
     "output_type": "execute_result"
    }
   ],
   "source": [
    "mix_tuple"
   ]
  },
  {
   "cell_type": "code",
   "execution_count": 64,
   "id": "368d63fc",
   "metadata": {},
   "outputs": [],
   "source": [
    "list_mix_tuple = list(mix_tuple)"
   ]
  },
  {
   "cell_type": "code",
   "execution_count": 65,
   "id": "5d8094a5",
   "metadata": {},
   "outputs": [
    {
     "data": {
      "text/plain": [
       "[['a', 1, True], 2, 'Science', -5]"
      ]
     },
     "execution_count": 65,
     "metadata": {},
     "output_type": "execute_result"
    }
   ],
   "source": [
    "list_mix_tuple"
   ]
  },
  {
   "cell_type": "code",
   "execution_count": 66,
   "id": "2537586f",
   "metadata": {},
   "outputs": [
    {
     "data": {
      "text/plain": [
       "2"
      ]
     },
     "execution_count": 66,
     "metadata": {},
     "output_type": "execute_result"
    }
   ],
   "source": [
    "list_mix_tuple[1]"
   ]
  },
  {
   "cell_type": "code",
   "execution_count": 67,
   "id": "1367a158",
   "metadata": {},
   "outputs": [],
   "source": [
    "list_mix_tuple[1]=3"
   ]
  },
  {
   "cell_type": "code",
   "execution_count": 68,
   "id": "f299e119",
   "metadata": {},
   "outputs": [
    {
     "data": {
      "text/plain": [
       "[['a', 1, True], 3, 'Science', -5]"
      ]
     },
     "execution_count": 68,
     "metadata": {},
     "output_type": "execute_result"
    }
   ],
   "source": [
    "list_mix_tuple"
   ]
  },
  {
   "cell_type": "code",
   "execution_count": 69,
   "id": "4e26abc1",
   "metadata": {},
   "outputs": [],
   "source": [
    "mix_tuple = tuple(list_mix_tuple)"
   ]
  },
  {
   "cell_type": "code",
   "execution_count": 70,
   "id": "86eb6ca5",
   "metadata": {},
   "outputs": [
    {
     "data": {
      "text/plain": [
       "(['a', 1, True], 3, 'Science', -5)"
      ]
     },
     "execution_count": 70,
     "metadata": {},
     "output_type": "execute_result"
    }
   ],
   "source": [
    "mix_tuple"
   ]
  },
  {
   "cell_type": "code",
   "execution_count": 71,
   "id": "5e6f0cee",
   "metadata": {},
   "outputs": [
    {
     "data": {
      "text/plain": [
       "[['a', 1, True], 3, 'Science', -5]"
      ]
     },
     "execution_count": 71,
     "metadata": {},
     "output_type": "execute_result"
    }
   ],
   "source": [
    "list_mix_tuple"
   ]
  },
  {
   "cell_type": "code",
   "execution_count": 72,
   "id": "1f88c2e3",
   "metadata": {},
   "outputs": [
    {
     "data": {
      "text/plain": [
       "True"
      ]
     },
     "execution_count": 72,
     "metadata": {},
     "output_type": "execute_result"
    }
   ],
   "source": [
    "list_mix_tuple[0][2]"
   ]
  },
  {
   "cell_type": "code",
   "execution_count": 75,
   "id": "3955694b",
   "metadata": {},
   "outputs": [],
   "source": [
    "list_mix_tuple[0][2] = False"
   ]
  },
  {
   "cell_type": "code",
   "execution_count": 76,
   "id": "a7cd275a",
   "metadata": {},
   "outputs": [
    {
     "data": {
      "text/plain": [
       "[['a', 1, False], 3, 'Science', -5]"
      ]
     },
     "execution_count": 76,
     "metadata": {},
     "output_type": "execute_result"
    }
   ],
   "source": [
    "list_mix_tuple"
   ]
  },
  {
   "cell_type": "code",
   "execution_count": 77,
   "id": "c17975d8",
   "metadata": {},
   "outputs": [],
   "source": [
    "num_set = {1,2,3,4,5,6}"
   ]
  },
  {
   "cell_type": "code",
   "execution_count": 78,
   "id": "6cca0f71",
   "metadata": {},
   "outputs": [],
   "source": [
    "num_set.add(7)"
   ]
  },
  {
   "cell_type": "code",
   "execution_count": 79,
   "id": "9619d202",
   "metadata": {},
   "outputs": [
    {
     "data": {
      "text/plain": [
       "{1, 2, 3, 4, 5, 6, 7}"
      ]
     },
     "execution_count": 79,
     "metadata": {},
     "output_type": "execute_result"
    }
   ],
   "source": [
    "num_set"
   ]
  },
  {
   "cell_type": "code",
   "execution_count": 80,
   "id": "727e8b41",
   "metadata": {},
   "outputs": [],
   "source": [
    "num_set.remove(3)"
   ]
  },
  {
   "cell_type": "code",
   "execution_count": 81,
   "id": "c5b81400",
   "metadata": {},
   "outputs": [
    {
     "data": {
      "text/plain": [
       "{1, 2, 4, 5, 6, 7}"
      ]
     },
     "execution_count": 81,
     "metadata": {},
     "output_type": "execute_result"
    }
   ],
   "source": [
    "num_set"
   ]
  },
  {
   "cell_type": "code",
   "execution_count": 82,
   "id": "21478947",
   "metadata": {},
   "outputs": [],
   "source": [
    "num_set.discard(3)"
   ]
  },
  {
   "cell_type": "code",
   "execution_count": 83,
   "id": "faefcd1b",
   "metadata": {},
   "outputs": [
    {
     "data": {
      "text/plain": [
       "{1, 2, 4, 5, 6, 7}"
      ]
     },
     "execution_count": 83,
     "metadata": {},
     "output_type": "execute_result"
    }
   ],
   "source": [
    "num_set"
   ]
  },
  {
   "cell_type": "code",
   "execution_count": 84,
   "id": "8301b9c0",
   "metadata": {},
   "outputs": [],
   "source": [
    "num_set.clear()"
   ]
  },
  {
   "cell_type": "code",
   "execution_count": 85,
   "id": "fc17f72b",
   "metadata": {},
   "outputs": [
    {
     "data": {
      "text/plain": [
       "set()"
      ]
     },
     "execution_count": 85,
     "metadata": {},
     "output_type": "execute_result"
    }
   ],
   "source": [
    "num_set"
   ]
  },
  {
   "cell_type": "code",
   "execution_count": 86,
   "id": "5d1330ce",
   "metadata": {},
   "outputs": [],
   "source": [
    "sentence_1 = 'We shall analyse the data using python'\n",
    "\n",
    "sentence_2 = 'Python for data science'"
   ]
  },
  {
   "cell_type": "code",
   "execution_count": 92,
   "id": "ffef8014",
   "metadata": {},
   "outputs": [],
   "source": [
    "set_sentence_1 = sentence_1.split()"
   ]
  },
  {
   "cell_type": "code",
   "execution_count": 93,
   "id": "42b8195f",
   "metadata": {},
   "outputs": [
    {
     "data": {
      "text/plain": [
       "['We', 'shall', 'analyse', 'the', 'data', 'using', 'python']"
      ]
     },
     "execution_count": 93,
     "metadata": {},
     "output_type": "execute_result"
    }
   ],
   "source": [
    "set_sentence_1"
   ]
  },
  {
   "cell_type": "code",
   "execution_count": 94,
   "id": "f93268d4",
   "metadata": {},
   "outputs": [
    {
     "data": {
      "text/plain": [
       "7"
      ]
     },
     "execution_count": 94,
     "metadata": {},
     "output_type": "execute_result"
    }
   ],
   "source": [
    "len(set_sentence_1)"
   ]
  },
  {
   "cell_type": "code",
   "execution_count": 95,
   "id": "a276001f",
   "metadata": {},
   "outputs": [
    {
     "data": {
      "text/plain": [
       "'Python for data science'"
      ]
     },
     "execution_count": 95,
     "metadata": {},
     "output_type": "execute_result"
    }
   ],
   "source": [
    "sentence_2"
   ]
  },
  {
   "cell_type": "code",
   "execution_count": 97,
   "id": "14978131",
   "metadata": {},
   "outputs": [],
   "source": [
    "set_sentence_2 = sentence_2.split()"
   ]
  },
  {
   "cell_type": "code",
   "execution_count": 98,
   "id": "d063ee84",
   "metadata": {},
   "outputs": [
    {
     "data": {
      "text/plain": [
       "['Python', 'for', 'data', 'science']"
      ]
     },
     "execution_count": 98,
     "metadata": {},
     "output_type": "execute_result"
    }
   ],
   "source": [
    "set_sentence_2"
   ]
  },
  {
   "cell_type": "code",
   "execution_count": 99,
   "id": "d891c0f8",
   "metadata": {},
   "outputs": [],
   "source": [
    "sentence_1 = 'We shall analyse the data using python'\n",
    "\n",
    "sentence_2 = 'Python for data science'"
   ]
  },
  {
   "cell_type": "code",
   "execution_count": 100,
   "id": "3555252c",
   "metadata": {},
   "outputs": [
    {
     "data": {
      "text/plain": [
       "['We', 'shall', 'analyse', 'the', 'data', 'using', 'python']"
      ]
     },
     "execution_count": 100,
     "metadata": {},
     "output_type": "execute_result"
    }
   ],
   "source": [
    "sentence_1.split()"
   ]
  },
  {
   "cell_type": "code",
   "execution_count": 101,
   "id": "e1f7cd3b",
   "metadata": {},
   "outputs": [],
   "source": [
    "x = set(sentence_1.split())"
   ]
  },
  {
   "cell_type": "code",
   "execution_count": 102,
   "id": "378849de",
   "metadata": {},
   "outputs": [],
   "source": [
    "y = set(sentence_2.split())"
   ]
  },
  {
   "cell_type": "code",
   "execution_count": 103,
   "id": "899d97ba",
   "metadata": {},
   "outputs": [
    {
     "name": "stdout",
     "output_type": "stream",
     "text": [
      "7\n"
     ]
    }
   ],
   "source": [
    "print(len(x))"
   ]
  },
  {
   "cell_type": "code",
   "execution_count": 104,
   "id": "3b554091",
   "metadata": {},
   "outputs": [
    {
     "name": "stdout",
     "output_type": "stream",
     "text": [
      "4\n"
     ]
    }
   ],
   "source": [
    "print(len(y))"
   ]
  },
  {
   "cell_type": "code",
   "execution_count": 105,
   "id": "6a4f91d7",
   "metadata": {},
   "outputs": [
    {
     "data": {
      "text/plain": [
       "{'data'}"
      ]
     },
     "execution_count": 105,
     "metadata": {},
     "output_type": "execute_result"
    }
   ],
   "source": [
    "x.intersection(y)"
   ]
  },
  {
   "cell_type": "code",
   "execution_count": 106,
   "id": "e031b38b",
   "metadata": {},
   "outputs": [
    {
     "data": {
      "text/plain": [
       "{'Python',\n",
       " 'We',\n",
       " 'analyse',\n",
       " 'data',\n",
       " 'for',\n",
       " 'python',\n",
       " 'science',\n",
       " 'shall',\n",
       " 'the',\n",
       " 'using'}"
      ]
     },
     "execution_count": 106,
     "metadata": {},
     "output_type": "execute_result"
    }
   ],
   "source": [
    "x.union(y)"
   ]
  },
  {
   "cell_type": "code",
   "execution_count": 107,
   "id": "48449a02",
   "metadata": {},
   "outputs": [],
   "source": [
    "A = {1, 4, 5, 2, 6, 3, 40, 7, 87, 4, 71}\n",
    "\n",
    "B = {3, 42, 51, 6, 7, 8, 54, 5}"
   ]
  },
  {
   "cell_type": "code",
   "execution_count": 108,
   "id": "e36eb7a2",
   "metadata": {},
   "outputs": [
    {
     "data": {
      "text/plain": [
       "{1, 2, 3, 4, 5, 6, 7, 8, 40, 42, 51, 54, 71, 87}"
      ]
     },
     "execution_count": 108,
     "metadata": {},
     "output_type": "execute_result"
    }
   ],
   "source": [
    "A.union(B)"
   ]
  },
  {
   "cell_type": "code",
   "execution_count": 109,
   "id": "18f4a140",
   "metadata": {},
   "outputs": [
    {
     "data": {
      "text/plain": [
       "{3, 5, 6, 7}"
      ]
     },
     "execution_count": 109,
     "metadata": {},
     "output_type": "execute_result"
    }
   ],
   "source": [
    "A.intersection(B)"
   ]
  },
  {
   "cell_type": "code",
   "execution_count": 110,
   "id": "0470261d",
   "metadata": {},
   "outputs": [
    {
     "data": {
      "text/plain": [
       "{1, 2, 4, 40, 71, 87}"
      ]
     },
     "execution_count": 110,
     "metadata": {},
     "output_type": "execute_result"
    }
   ],
   "source": [
    "A.difference(B)"
   ]
  },
  {
   "cell_type": "code",
   "execution_count": 111,
   "id": "af39f237",
   "metadata": {},
   "outputs": [
    {
     "data": {
      "text/plain": [
       "set()"
      ]
     },
     "execution_count": 111,
     "metadata": {},
     "output_type": "execute_result"
    }
   ],
   "source": [
    "B.difference(B)"
   ]
  },
  {
   "cell_type": "code",
   "execution_count": 112,
   "id": "a12a9e5a",
   "metadata": {},
   "outputs": [
    {
     "data": {
      "text/plain": [
       "{1, 2, 4, 8, 40, 42, 51, 54, 71, 87}"
      ]
     },
     "execution_count": 112,
     "metadata": {},
     "output_type": "execute_result"
    }
   ],
   "source": [
    "A.symmetric_difference(B)"
   ]
  },
  {
   "cell_type": "code",
   "execution_count": 113,
   "id": "aaeac9d2",
   "metadata": {},
   "outputs": [],
   "source": [
    "mix_dictionary = {0:3, 'x':5, 1:2}"
   ]
  },
  {
   "cell_type": "code",
   "execution_count": 114,
   "id": "403f50b1",
   "metadata": {},
   "outputs": [
    {
     "data": {
      "text/plain": [
       "dict_keys([0, 'x', 1])"
      ]
     },
     "execution_count": 114,
     "metadata": {},
     "output_type": "execute_result"
    }
   ],
   "source": [
    "mix_dictionary.keys()"
   ]
  },
  {
   "cell_type": "code",
   "execution_count": 115,
   "id": "bd76b570",
   "metadata": {},
   "outputs": [
    {
     "data": {
      "text/plain": [
       "dict_values([3, 5, 2])"
      ]
     },
     "execution_count": 115,
     "metadata": {},
     "output_type": "execute_result"
    }
   ],
   "source": [
    "mix_dictionary.values()"
   ]
  },
  {
   "cell_type": "code",
   "execution_count": 116,
   "id": "ac499a27",
   "metadata": {},
   "outputs": [],
   "source": [
    "emp_record = {'Weight': 67, 'BMI': 25, 'Age': 27, 'Profession': 'CA'}"
   ]
  },
  {
   "cell_type": "code",
   "execution_count": 117,
   "id": "1b65d163",
   "metadata": {},
   "outputs": [
    {
     "data": {
      "text/plain": [
       "27"
      ]
     },
     "execution_count": 117,
     "metadata": {},
     "output_type": "execute_result"
    }
   ],
   "source": [
    "emp_record['Age']"
   ]
  },
  {
   "cell_type": "code",
   "execution_count": 118,
   "id": "c308adb2",
   "metadata": {},
   "outputs": [],
   "source": [
    "key = ['a','b','c','d']\n",
    "\n",
    "value = [1, 2, 3, 4]"
   ]
  },
  {
   "cell_type": "code",
   "execution_count": 120,
   "id": "e3db2f11",
   "metadata": {},
   "outputs": [
    {
     "data": {
      "text/plain": [
       "{'a': 1, 'b': 2, 'c': 3, 'd': 4}"
      ]
     },
     "execution_count": 120,
     "metadata": {},
     "output_type": "execute_result"
    }
   ],
   "source": [
    "dict(zip(key,value))"
   ]
  },
  {
   "cell_type": "code",
   "execution_count": 121,
   "id": "4d01a881",
   "metadata": {},
   "outputs": [],
   "source": [
    "#**Use the dictionary**\n",
    "\n",
    "emp_record = {'Emp_ID': 'ES001', 'Weight': 67, 'BMI': 25, 'Age': 27, 'Profession': 'CA'}"
   ]
  },
  {
   "cell_type": "code",
   "execution_count": 127,
   "id": "76f380a0",
   "metadata": {},
   "outputs": [],
   "source": [
    "emp_record['Country']='india'"
   ]
  },
  {
   "cell_type": "code",
   "execution_count": 128,
   "id": "a1a5c1c7",
   "metadata": {},
   "outputs": [
    {
     "data": {
      "text/plain": [
       "{'Emp_ID': 'ES001',\n",
       " 'Weight': 67,\n",
       " 'BMI': 25,\n",
       " 'Age': 27,\n",
       " 'Profession': 'CA',\n",
       " 'Country': 'india'}"
      ]
     },
     "execution_count": 128,
     "metadata": {},
     "output_type": "execute_result"
    }
   ],
   "source": [
    "emp_record"
   ]
  },
  {
   "cell_type": "code",
   "execution_count": null,
   "id": "280bb351",
   "metadata": {},
   "outputs": [],
   "source": []
  }
 ],
 "metadata": {
  "kernelspec": {
   "display_name": "Python 3 (ipykernel)",
   "language": "python",
   "name": "python3"
  },
  "language_info": {
   "codemirror_mode": {
    "name": "ipython",
    "version": 3
   },
   "file_extension": ".py",
   "mimetype": "text/x-python",
   "name": "python",
   "nbconvert_exporter": "python",
   "pygments_lexer": "ipython3",
   "version": "3.9.13"
  }
 },
 "nbformat": 4,
 "nbformat_minor": 5
}
